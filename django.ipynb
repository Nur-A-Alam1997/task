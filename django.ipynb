{
  "nbformat": 4,
  "nbformat_minor": 0,
  "metadata": {
    "colab": {
      "name": "django.ipynb",
      "provenance": [],
      "collapsed_sections": [],
      "authorship_tag": "ABX9TyMIAIQgVVVb7EEaWCUbBVJm",
      "include_colab_link": true
    },
    "kernelspec": {
      "display_name": "Python 3",
      "name": "python3"
    },
    "language_info": {
      "name": "python"
    }
  },
  "cells": [
    {
      "cell_type": "markdown",
      "metadata": {
        "id": "view-in-github",
        "colab_type": "text"
      },
      "source": [
        "<a href=\"https://colab.research.google.com/github/Nur-A-Alam1997/task/blob/master/django.ipynb\" target=\"_parent\"><img src=\"https://colab.research.google.com/assets/colab-badge.svg\" alt=\"Open In Colab\"/></a>"
      ]
    },
    {
      "cell_type": "code",
      "metadata": {
        "id": "UXJJxUbkGBnf"
      },
      "source": [
        "import shutil\n",
        "\n",
        "shutil.rmtree(\"/content/minimal-django/static_files\")"
      ],
      "execution_count": null,
      "outputs": []
    },
    {
      "cell_type": "code",
      "metadata": {
        "colab": {
          "base_uri": "https://localhost:8080/"
        },
        "id": "jvMnmPlENvb2",
        "outputId": "a340ac3e-b696-4f8c-c5de-2051dc695ad4"
      },
      "source": [
        "!git clone https://github.com/rnevius/minimal-django.git"
      ],
      "execution_count": 37,
      "outputs": [
        {
          "output_type": "stream",
          "name": "stdout",
          "text": [
            "Cloning into 'minimal-django'...\n",
            "remote: Enumerating objects: 20, done.\u001b[K\n",
            "remote: Counting objects: 100% (3/3), done.\u001b[K\n",
            "remote: Compressing objects: 100% (3/3), done.\u001b[K\n",
            "remote: Total 20 (delta 0), reused 1 (delta 0), pack-reused 17\u001b[K\n",
            "Unpacking objects: 100% (20/20), done.\n"
          ]
        }
      ]
    },
    {
      "cell_type": "code",
      "metadata": {
        "colab": {
          "base_uri": "https://localhost:8080/"
        },
        "id": "AdGYqnuSOAUw",
        "outputId": "95a842e6-7f64-4afc-f4a7-13e50ecbeb55"
      },
      "source": [
        "%cd minimal-django/"
      ],
      "execution_count": 38,
      "outputs": [
        {
          "output_type": "stream",
          "name": "stdout",
          "text": [
            "/content/minimal-django\n"
          ]
        }
      ]
    },
    {
      "cell_type": "code",
      "metadata": {
        "id": "BuPr4TzsKb0Y"
      },
      "source": [
        "!mkdir static templates"
      ],
      "execution_count": 39,
      "outputs": []
    },
    {
      "cell_type": "code",
      "metadata": {
        "colab": {
          "base_uri": "https://localhost:8080/"
        },
        "id": "YL-Ax8vEORb3",
        "outputId": "a77b6127-4134-4fe7-b061-8a9574f26a55"
      },
      "source": [
        "%%writefile templates/temp.html\n",
        "{% load static %}\n",
        "\n",
        "<!DOCTYPE html>\n",
        "<html>\n",
        "<head>\n",
        "<title>Page Title</title>\n",
        "<link rel=\"stylesheet\" type=\"text/css\" href='{%static \"temp.css\" %}'>\n",
        "</head>\n",
        "<body>\n",
        "\n",
        "<h1>This is a Heading</h1>\n",
        "\n",
        "<img src=\"{%static 'favicon.ico' %}\" alt=\"\">\n",
        "\n",
        "<p>This is a paragraph.</p>\n",
        "\n",
        "</body>\n",
        "</html>"
      ],
      "execution_count": 40,
      "outputs": [
        {
          "output_type": "stream",
          "name": "stdout",
          "text": [
            "Writing templates/temp.html\n"
          ]
        }
      ]
    },
    {
      "cell_type": "code",
      "metadata": {
        "colab": {
          "base_uri": "https://localhost:8080/"
        },
        "id": "jqBjVm8PfJ7e",
        "outputId": "5b00a7d4-3757-48ba-e3c6-b76087f4e01c"
      },
      "source": [
        "%%writefile static/temp.css\n",
        "\n",
        "\n",
        "h1{\n",
        "    color:red;\n",
        "}\n",
        "\n",
        "\n"
      ],
      "execution_count": 41,
      "outputs": [
        {
          "output_type": "stream",
          "name": "stdout",
          "text": [
            "Writing static/temp.css\n"
          ]
        }
      ]
    },
    {
      "cell_type": "code",
      "metadata": {
        "colab": {
          "base_uri": "https://localhost:8080/"
        },
        "id": "hPj09pfQgZko",
        "outputId": "687bd396-ab86-415b-b5db-e804bff5a9b6"
      },
      "source": [
        "import os\n",
        "import urllib.request\n",
        "urllib.request.urlretrieve('https://www.google.com/images/branding/googlelogo/1x/googlelogo_color_272x92dp.png',\n",
        "                           'static/favicon.ico')"
      ],
      "execution_count": 42,
      "outputs": [
        {
          "output_type": "execute_result",
          "data": {
            "text/plain": [
              "('static/favicon.ico', <http.client.HTTPMessage at 0x7f67fb9f7090>)"
            ]
          },
          "metadata": {},
          "execution_count": 42
        }
      ]
    },
    {
      "cell_type": "code",
      "metadata": {
        "id": "8ORdJIsffD-U"
      },
      "source": [
        ""
      ],
      "execution_count": null,
      "outputs": []
    },
    {
      "cell_type": "code",
      "metadata": {
        "colab": {
          "base_uri": "https://localhost:8080/"
        },
        "id": "i060NGkzGVll",
        "outputId": "d34b6872-4c1a-41e7-c076-70252ccfd507"
      },
      "source": [
        "!pwd"
      ],
      "execution_count": 43,
      "outputs": [
        {
          "output_type": "stream",
          "name": "stdout",
          "text": [
            "/content/minimal-django\n"
          ]
        }
      ]
    },
    {
      "cell_type": "code",
      "metadata": {
        "colab": {
          "base_uri": "https://localhost:8080/"
        },
        "id": "Mvedot97B9OI",
        "outputId": "6c7bba9e-888e-4f9c-9489-51da1be7ea49"
      },
      "source": [
        "!pip install django"
      ],
      "execution_count": 44,
      "outputs": [
        {
          "output_type": "stream",
          "name": "stdout",
          "text": [
            "Collecting django\n",
            "  Downloading Django-3.2.9-py3-none-any.whl (7.9 MB)\n",
            "\u001b[K     |████████████████████████████████| 7.9 MB 26.6 MB/s \n",
            "\u001b[?25hCollecting asgiref<4,>=3.3.2\n",
            "  Downloading asgiref-3.4.1-py3-none-any.whl (25 kB)\n",
            "Requirement already satisfied: pytz in /usr/local/lib/python3.7/dist-packages (from django) (2018.9)\n",
            "Requirement already satisfied: sqlparse>=0.2.2 in /usr/local/lib/python3.7/dist-packages (from django) (0.4.2)\n",
            "Requirement already satisfied: typing-extensions in /usr/local/lib/python3.7/dist-packages (from asgiref<4,>=3.3.2->django) (3.10.0.2)\n",
            "Installing collected packages: asgiref, django\n",
            "Successfully installed asgiref-3.4.1 django-3.2.9\n"
          ]
        }
      ]
    },
    {
      "cell_type": "code",
      "metadata": {
        "id": "ku5--pyZCHrB"
      },
      "source": [
        "!django-admin startproject ProjectName"
      ],
      "execution_count": null,
      "outputs": []
    },
    {
      "cell_type": "code",
      "metadata": {
        "colab": {
          "base_uri": "https://localhost:8080/"
        },
        "id": "IrlTZj92C40I",
        "outputId": "103bd4e5-75b8-437d-c953-d1832463a58d"
      },
      "source": [
        "%cd ProjectName/"
      ],
      "execution_count": null,
      "outputs": [
        {
          "name": "stdout",
          "output_type": "stream",
          "text": [
            "/content/ProjectName\n"
          ]
        }
      ]
    },
    {
      "cell_type": "code",
      "metadata": {
        "colab": {
          "base_uri": "https://localhost:8080/"
        },
        "id": "EnWRj0CqP9fp",
        "outputId": "21ac038d-45c2-44ff-d56c-2bf1c9f0e642"
      },
      "source": [
        "%%writefile minimal.py\n",
        "import sys, os\n",
        "\n",
        "from pathlib import Path\n",
        "\n",
        "from django.conf import settings\n",
        "\n",
        "from django.urls import path, resolve, Resolver404\n",
        "\n",
        "from django.core.management import execute_from_command_line\n",
        "\n",
        "from django.http import HttpResponse\n",
        "\n",
        "from django.shortcuts import render\n",
        "\n",
        "BASE_DIR = Path(__file__).resolve().parent.parent\n",
        "# PROJECT_DIR = os.path.dirname(__file__)\n",
        "# print(\"hi\",BASE_DIR,PROJECT_DIR)\n",
        "\n",
        "\n",
        "\n",
        "\n",
        "# MEDIA_URL = '/media/'\n",
        "# MEDIA_ROOT = os.path.join(BASE_DIR, 'media')\n",
        "\n",
        "\n",
        "settings.configure(\n",
        "\n",
        "    DEBUG=True,\n",
        "\n",
        "    ROOT_URLCONF=sys.modules[__name__],\n",
        "\n",
        "    ALLOWED_HOSTS = ['colab.research.google.com'],\n",
        "\n",
        "    SECRET_KEY='asecretkey',\n",
        "\n",
        "    STATIC_URL = '/static/',\n",
        "    STATICFILES_DIRS = [\n",
        "        BASE_DIR/'minimal-django/static'\n",
        "    ],\n",
        "    INSTALLED_APPS = [\n",
        "    'django.contrib.staticfiles',\n",
        "    ],\n",
        "\n",
        "    TEMPLATES = [\n",
        "    {\n",
        "        'BACKEND': 'django.template.backends.django.DjangoTemplates',\n",
        "        'DIRS': [\n",
        "            './templates/'\n",
        "        ],\n",
        "    },\n",
        "    ],\n",
        "    DATABASES = {\n",
        "\n",
        "    'default': {\n",
        "\n",
        "        'ENGINE': 'django.db.backends.postgresql_psycopg2',\n",
        "\n",
        "        'NAME': \"ole\",\n",
        "\n",
        "        'USER': 'postgres',\n",
        "\n",
        "        'PASSWORD': 'postgres',\n",
        "\n",
        "        'HOST': 'localhost',\n",
        "\n",
        "        'PORT': '5432',\n",
        "\n",
        "    }\n",
        "\n",
        "    }\n",
        "\n",
        ")\n",
        "\n",
        "\n",
        "def home(request):\n",
        "\n",
        "    return HttpResponse(\"\"\"\n",
        "    <link rel=\"icon\" href=\"static/favicon.ico\">\n",
        "    <h1> Home!</h1>\n",
        "    \"\"\")\n",
        "\n",
        "def index(request):\n",
        "\n",
        "    return HttpResponse(\n",
        "    \"\"\"\n",
        "    <link rel=\"icon\" href=\"static/favicon.ico\">\n",
        "    <img src='static/favicon.ico' alt=\"\">\n",
        "    <h1>A minimal fucking Django response!</h1>\n",
        "    \"\"\")\n",
        "\n",
        "def fuck(request):\n",
        "    return render(request, 'temp.html')\n",
        "\n",
        "    # return HttpResponse('<h1> fucking Django response!</h1>')\n",
        "def okay(request):\n",
        "    return HttpResponse('pretend-binary-data-here', content_type='image/jpeg')\n",
        "\n",
        "\n",
        "def test(request):\n",
        "    import pandas as pd\n",
        "    import psycopg2\n",
        "\n",
        "    connection = psycopg2.connect(host = 'localhost',\n",
        "                            user = 'postgres',\n",
        "                            password = 'postgres',\n",
        "                            database = 'ole',\n",
        "                            port = 5432)\n",
        "\n",
        "    df = pd.read_sql('select * from customer', connection)\n",
        "    print(df['email'])\n",
        "\n",
        "    return HttpResponse(df['email'])\n",
        "\n",
        "\n",
        "urlpatterns = [\n",
        "\n",
        "    path(r'', home),\n",
        "    path(r'admin/', index),\n",
        "    path(r'fuck/', fuck),\n",
        "    path(r'test/', test),\n",
        "    path('favicon.ico', okay),    \n",
        "\n",
        "]\n",
        "\n",
        "\n",
        "\n",
        "if __name__ == '__main__':\n",
        "\n",
        "    execute_from_command_line(sys.argv)"
      ],
      "execution_count": 71,
      "outputs": [
        {
          "output_type": "stream",
          "name": "stdout",
          "text": [
            "Overwriting minimal.py\n"
          ]
        }
      ]
    },
    {
      "cell_type": "code",
      "metadata": {
        "id": "JmjXkHVxJRXD"
      },
      "source": [
        "with open(\"/content/minimal-django/minimal.py\") as page:\n",
        "    for line in page:\n",
        "        print(line)"
      ],
      "execution_count": null,
      "outputs": []
    },
    {
      "cell_type": "code",
      "metadata": {
        "id": "-WYKb0kKDSLD"
      },
      "source": [
        "with open(\"/content/ProjectName/ProjectName/settings.py\") as page:\n",
        "    f = open(\"settings.py\", \"w\")\n",
        "    for line in page:\n",
        "        if \"ALLOWED_HOSTS\" in line:\n",
        "            f.write(\"ALLOWED_HOSTS = ['colab.research.google.com']\")\n",
        "        else:\n",
        "            f.write(line)\n",
        "    f.close()\n",
        "\n",
        "# ALLOWED_HOSTS = ['colab.research.google.com']"
      ],
      "execution_count": null,
      "outputs": []
    },
    {
      "cell_type": "code",
      "metadata": {
        "id": "FzVcRobuDlCl"
      },
      "source": [
        "!mv  settings.py ProjectName\n"
      ],
      "execution_count": null,
      "outputs": []
    },
    {
      "cell_type": "code",
      "metadata": {
        "colab": {
          "base_uri": "https://localhost:8080/",
          "height": 34
        },
        "id": "ASxnLdcRC762",
        "outputId": "ee7c3393-afd9-456d-cdca-2968b25462b2"
      },
      "source": [
        "from google.colab.output import eval_js\n",
        "print(eval_js(\"google.colab.kernel.proxyPort(4000)\"))"
      ],
      "execution_count": 47,
      "outputs": [
        {
          "output_type": "stream",
          "name": "stdout",
          "text": [
            "https://9ou24p4xqde-496ff2e9c6d22116-4000-colab.googleusercontent.com/\n"
          ]
        }
      ]
    },
    {
      "cell_type": "code",
      "metadata": {
        "id": "Eq9B7l2KFrBq"
      },
      "source": [
        "!python minimal.py runserver 4000"
      ],
      "execution_count": null,
      "outputs": []
    },
    {
      "cell_type": "code",
      "metadata": {
        "colab": {
          "base_uri": "https://localhost:8080/",
          "height": 35
        },
        "id": "WorfM51FSd6k",
        "outputId": "ed425867-be2b-4597-a49c-023f06a42e90"
      },
      "source": [
        "import shutil\n",
        "shutil.make_archive('/content/minimal-django', 'zip', '/content/minimal-django')"
      ],
      "execution_count": null,
      "outputs": [
        {
          "data": {
            "application/vnd.google.colaboratory.intrinsic+json": {
              "type": "string"
            },
            "text/plain": [
              "'/content/minimal-django.zip'"
            ]
          },
          "execution_count": 58,
          "metadata": {},
          "output_type": "execute_result"
        }
      ]
    },
    {
      "cell_type": "code",
      "metadata": {
        "id": "wR_9mVcyMgge"
      },
      "source": [
        "!sudo apt-get -y -qq update"
      ],
      "execution_count": 1,
      "outputs": []
    },
    {
      "cell_type": "code",
      "metadata": {
        "id": "FeltecZwcVKp"
      },
      "source": [
        "!sudo apt-get -y -qq install postgresql"
      ],
      "execution_count": null,
      "outputs": []
    },
    {
      "cell_type": "code",
      "metadata": {
        "colab": {
          "base_uri": "https://localhost:8080/"
        },
        "id": "9lBpDOaGcyKu",
        "outputId": "bd1651a3-8060-4d8e-ea96-70192a3ee85e"
      },
      "source": [
        "!sudo service postgresql start\n",
        "# !sudo service postgresql stop"
      ],
      "execution_count": 111,
      "outputs": [
        {
          "output_type": "stream",
          "name": "stdout",
          "text": [
            " * Starting PostgreSQL 10 database server\n",
            "   ...done.\n"
          ]
        }
      ]
    },
    {
      "cell_type": "code",
      "metadata": {
        "colab": {
          "base_uri": "https://localhost:8080/"
        },
        "id": "JESjPXTGcl25",
        "outputId": "6875df04-0223-475a-a952-f6aad81267f0"
      },
      "source": [
        "# backup file\n",
        "!pg_dump -U postgres -h localhost -p 5432 ole > ole.db"
      ],
      "execution_count": 105,
      "outputs": [
        {
          "output_type": "stream",
          "name": "stdout",
          "text": [
            "Password: \n"
          ]
        }
      ]
    },
    {
      "cell_type": "code",
      "metadata": {
        "colab": {
          "base_uri": "https://localhost:8080/"
        },
        "id": "kYECIZiSg_aw",
        "outputId": "bef1a511-67cb-4b8d-fd8e-14b628e4d916"
      },
      "source": [
        "# restore\n",
        "# !pg_restore -d ole -U postgres -h localhost -C backup.dump"
      ],
      "execution_count": 115,
      "outputs": [
        {
          "output_type": "stream",
          "name": "stdout",
          "text": [
            "fatal: could not read Username for 'https://github.com': No such device or address\n"
          ]
        }
      ]
    },
    {
      "cell_type": "code",
      "metadata": {
        "colab": {
          "base_uri": "https://localhost:8080/"
        },
        "id": "i9f1ZV0mdFA9",
        "outputId": "25ee1291-d8d0-4125-8db9-3ae57ee231aa"
      },
      "source": [
        "!sudo -u postgres psql -U postgres -c \"ALTER user postgres password 'postgres'\""
      ],
      "execution_count": 5,
      "outputs": [
        {
          "output_type": "stream",
          "name": "stdout",
          "text": [
            "ALTER ROLE\n"
          ]
        }
      ]
    },
    {
      "cell_type": "code",
      "metadata": {
        "id": "kjFTtVuodevD"
      },
      "source": [
        "!sudo -u postgres psql"
      ],
      "execution_count": null,
      "outputs": []
    },
    {
      "cell_type": "code",
      "metadata": {
        "colab": {
          "base_uri": "https://localhost:8080/"
        },
        "id": "pF8WfFp5dwrK",
        "outputId": "7bf63a9c-602c-47cd-ddfe-dc5e23c964a9"
      },
      "source": [
        "!sudo -u postgres psql -U postgres -c \"CREATE database OLE\""
      ],
      "execution_count": 7,
      "outputs": [
        {
          "output_type": "stream",
          "name": "stdout",
          "text": [
            "CREATE DATABASE\n"
          ]
        }
      ]
    },
    {
      "cell_type": "code",
      "metadata": {
        "id": "0kin58W4eTfW"
      },
      "source": [
        "!sudo -u postgres psql -U postgres -c \"\""
      ],
      "execution_count": null,
      "outputs": []
    },
    {
      "cell_type": "code",
      "metadata": {
        "id": "1hlT_EcngKky"
      },
      "source": [
        "\n",
        "\n",
        "\n",
        "f = open(\"settings.sql\", \"w\")\n",
        "f.write(\"\"\"\n",
        "CREATE TABLE AirQualityUCI (\n",
        "  Date DATE,\n",
        "  Time TIME,\n",
        "  CO REAL,\n",
        "  PT08S1 INT,\n",
        "  NMHC REAL,\n",
        "  C6H6 REAL,\n",
        "  PT08S2 INT,\n",
        "  NOx REAL,\n",
        "  PT08S3 INT,\n",
        "  NO2 REAL,\n",
        "  PT08S4 INT,\n",
        "  PT08S5 INT,\n",
        "  T REAL,\n",
        "  RH REAL,\n",
        "  AH REAL\n",
        ");\n",
        "\"\"\")\n",
        "f.close()\n"
      ],
      "execution_count": 34,
      "outputs": []
    },
    {
      "cell_type": "code",
      "metadata": {
        "colab": {
          "base_uri": "https://localhost:8080/"
        },
        "id": "ssbJjcxcg0Ax",
        "outputId": "48375175-c4a0-43f1-ce41-1fbcad9413ee"
      },
      "source": [
        "!PGPASSWORD=postgres psql -q -h localhost -p 5432 -U postgres -d ole -f settings.sql"
      ],
      "execution_count": 35,
      "outputs": [
        {
          "output_type": "stream",
          "name": "stdout",
          "text": [
            "psql:settings.sql:18: ERROR:  relation \"airqualityuci\" already exists\n"
          ]
        }
      ]
    },
    {
      "cell_type": "code",
      "metadata": {
        "colab": {
          "base_uri": "https://localhost:8080/"
        },
        "id": "mNZ2Dg4GhB_z",
        "outputId": "04ebe40c-7ed9-4da0-d278-54de7e6de259"
      },
      "source": [
        "import psycopg2"
      ],
      "execution_count": 8,
      "outputs": [
        {
          "output_type": "stream",
          "name": "stderr",
          "text": [
            "/usr/local/lib/python3.7/dist-packages/psycopg2/__init__.py:144: UserWarning: The psycopg2 wheel package will be renamed from release 2.8; in order to keep installing from binary please use \"pip install psycopg2-binary\" instead. For details see: <http://initd.org/psycopg/docs/install.html#binary-install-from-pypi>.\n",
            "  \"\"\")\n"
          ]
        }
      ]
    },
    {
      "cell_type": "code",
      "metadata": {
        "id": "Xrz77KyukSDh"
      },
      "source": [
        "connection = psycopg2.connect(host = 'localhost',\n",
        "                            user = 'postgres',\n",
        "                            password = 'postgres',\n",
        "                            database = 'ole',\n",
        "                            port = 5432)"
      ],
      "execution_count": 112,
      "outputs": []
    },
    {
      "cell_type": "code",
      "metadata": {
        "id": "1acAAW2sk1u7"
      },
      "source": [
        "cursor = connection.cursor()"
      ],
      "execution_count": 77,
      "outputs": []
    },
    {
      "cell_type": "code",
      "metadata": {
        "id": "cipj4M5ulcn_"
      },
      "source": [
        "query = \"select * from customer\""
      ],
      "execution_count": 78,
      "outputs": []
    },
    {
      "cell_type": "code",
      "metadata": {
        "id": "p9P3d1BWlmPM"
      },
      "source": [
        "cursor.execute(query)"
      ],
      "execution_count": 79,
      "outputs": []
    },
    {
      "cell_type": "code",
      "metadata": {
        "id": "lyRDUcoclpgF"
      },
      "source": [
        "models = cursor.fetchall()"
      ],
      "execution_count": 80,
      "outputs": []
    },
    {
      "cell_type": "code",
      "metadata": {
        "id": "hsLyGx69lxm9",
        "colab": {
          "base_uri": "https://localhost:8080/"
        },
        "outputId": "f4c5b555-4f95-4d88-a1fb-f89c7692d2fe"
      },
      "source": [
        "models"
      ],
      "execution_count": 81,
      "outputs": [
        {
          "output_type": "execute_result",
          "data": {
            "text/plain": [
              "[(12345,\n",
              "  'Audhi                                             ',\n",
              "  'Indonesia                                                                                           ',\n",
              "  'myemail@gmail.com                                 ',\n",
              "  '+621234567          '),\n",
              " (56789,\n",
              "  'Aprilliant                                        ',\n",
              "  'Japan                                                                                               ',\n",
              "  'email@gmail.com                                   ',\n",
              "  '+6213579246         ')]"
            ]
          },
          "metadata": {},
          "execution_count": 81
        }
      ]
    },
    {
      "cell_type": "code",
      "metadata": {
        "colab": {
          "base_uri": "https://localhost:8080/"
        },
        "id": "F7qjM_CQZk1T",
        "outputId": "832a7d7e-71ba-42ed-f827-7ea24eef0d04"
      },
      "source": [
        ""
      ],
      "execution_count": 76,
      "outputs": [
        {
          "output_type": "stream",
          "name": "stdout",
          "text": [
            "pg_dump: [archiver (db)] connection to database \"ole\" failed: FATAL:  role \"root\" does not exist\n"
          ]
        }
      ]
    },
    {
      "cell_type": "code",
      "metadata": {
        "colab": {
          "base_uri": "https://localhost:8080/"
        },
        "id": "cQImiPaAmYrb",
        "outputId": "c1af9238-cf26-4941-b529-28478b17f3f1"
      },
      "source": [
        "cur = connection.cursor()\n",
        "cur.execute(\"\"\"\n",
        "CREATE TABLE if not exists customer (\n",
        "customer_id INT PRIMARY KEY NOT NULL,\n",
        "name CHAR(50) NOT NULL,\n",
        "address CHAR(100),\n",
        "email CHAR(50),\n",
        "phone_number CHAR(20));\n",
        "\"\"\")\n",
        "print('Table created in PostgreSQL')\n",
        "connection.commit()\n",
        "# connection.close()"
      ],
      "execution_count": 11,
      "outputs": [
        {
          "output_type": "stream",
          "name": "stdout",
          "text": [
            "Table created in PostgreSQL\n"
          ]
        }
      ]
    },
    {
      "cell_type": "code",
      "metadata": {
        "id": "KJ1TwWtGlyo9"
      },
      "source": [
        "cur = connection.cursor()\n",
        "cur.execute(\"\"\"\n",
        "INSERT INTO customer (customer_id,name,address,email,phone_number)\n",
        "VALUES (12345,'Audhi','Indonesia','myemail@gmail.com','+621234567');\n",
        "\"\"\")\n",
        "cur.execute(\"\"\"\n",
        "INSERT INTO customer (customer_id,name,address,email,phone_number)\n",
        "VALUES (56789,'Aprilliant','Japan','email@gmail.com','+6213579246');\n",
        "\"\"\")\n",
        "connection.commit()\n",
        "# connection.close()"
      ],
      "execution_count": 12,
      "outputs": []
    },
    {
      "cell_type": "code",
      "metadata": {
        "id": "S5t10LYQmH6e",
        "colab": {
          "base_uri": "https://localhost:8080/",
          "height": 163
        },
        "outputId": "13b19462-47a4-47b6-e115-dc125be10979"
      },
      "source": [
        "cursor.execute(\"ROLLBACK\")"
      ],
      "execution_count": 110,
      "outputs": [
        {
          "output_type": "error",
          "ename": "InterfaceError",
          "evalue": "ignored",
          "traceback": [
            "\u001b[0;31m---------------------------------------------------------------------------\u001b[0m",
            "\u001b[0;31mInterfaceError\u001b[0m                            Traceback (most recent call last)",
            "\u001b[0;32m<ipython-input-110-ca3ed425a6b5>\u001b[0m in \u001b[0;36m<module>\u001b[0;34m()\u001b[0m\n\u001b[0;32m----> 1\u001b[0;31m \u001b[0mcursor\u001b[0m\u001b[0;34m.\u001b[0m\u001b[0mexecute\u001b[0m\u001b[0;34m(\u001b[0m\u001b[0;34m\"ROLLBACK\"\u001b[0m\u001b[0;34m)\u001b[0m\u001b[0;34m\u001b[0m\u001b[0;34m\u001b[0m\u001b[0m\n\u001b[0m",
            "\u001b[0;31mInterfaceError\u001b[0m: cursor already closed"
          ]
        }
      ]
    },
    {
      "cell_type": "code",
      "metadata": {
        "id": "lGTAX6fcm_gU",
        "colab": {
          "base_uri": "https://localhost:8080/"
        },
        "outputId": "84d83723-55c0-4b8d-91a9-3da3a8bcd089"
      },
      "source": [
        "cur = connection.cursor()\n",
        "cur.execute(\"\"\"\n",
        "SELECT customer_id,name,email FROM customer LIMIT 5;\n",
        "\"\"\")\n",
        "print('Read table in PostgreSQL')\n",
        "# Close the connection\n",
        "print(cur.fetchall())\n",
        "\n",
        "connection.commit()"
      ],
      "execution_count": 16,
      "outputs": [
        {
          "output_type": "stream",
          "name": "stdout",
          "text": [
            "Read table in PostgreSQL\n",
            "[(12345, 'Audhi                                             ', 'myemail@gmail.com                                 '), (56789, 'Aprilliant                                        ', 'email@gmail.com                                   ')]\n"
          ]
        }
      ]
    },
    {
      "cell_type": "code",
      "metadata": {
        "id": "3w71Nq3_pXbI",
        "colab": {
          "base_uri": "https://localhost:8080/",
          "height": 111
        },
        "outputId": "dfcffaac-fa24-4355-80e3-462ceb2c4454"
      },
      "source": [
        "import pandas as pd\n",
        "\n",
        "\n",
        "df = pd.read_sql('select * from customer', connection)\n",
        "df"
      ],
      "execution_count": 113,
      "outputs": [
        {
          "output_type": "execute_result",
          "data": {
            "text/html": [
              "<div>\n",
              "<style scoped>\n",
              "    .dataframe tbody tr th:only-of-type {\n",
              "        vertical-align: middle;\n",
              "    }\n",
              "\n",
              "    .dataframe tbody tr th {\n",
              "        vertical-align: top;\n",
              "    }\n",
              "\n",
              "    .dataframe thead th {\n",
              "        text-align: right;\n",
              "    }\n",
              "</style>\n",
              "<table border=\"1\" class=\"dataframe\">\n",
              "  <thead>\n",
              "    <tr style=\"text-align: right;\">\n",
              "      <th></th>\n",
              "      <th>customer_id</th>\n",
              "      <th>name</th>\n",
              "      <th>address</th>\n",
              "      <th>email</th>\n",
              "      <th>phone_number</th>\n",
              "    </tr>\n",
              "  </thead>\n",
              "  <tbody>\n",
              "    <tr>\n",
              "      <th>0</th>\n",
              "      <td>12345</td>\n",
              "      <td>Audhi                                         ...</td>\n",
              "      <td>Indonesia                                     ...</td>\n",
              "      <td>myemail@gmail.com                             ...</td>\n",
              "      <td>+621234567</td>\n",
              "    </tr>\n",
              "    <tr>\n",
              "      <th>1</th>\n",
              "      <td>56789</td>\n",
              "      <td>Aprilliant                                    ...</td>\n",
              "      <td>Japan                                         ...</td>\n",
              "      <td>email@gmail.com                               ...</td>\n",
              "      <td>+6213579246</td>\n",
              "    </tr>\n",
              "  </tbody>\n",
              "</table>\n",
              "</div>"
            ],
            "text/plain": [
              "   customer_id  ...          phone_number\n",
              "0        12345  ...  +621234567          \n",
              "1        56789  ...  +6213579246         \n",
              "\n",
              "[2 rows x 5 columns]"
            ]
          },
          "metadata": {},
          "execution_count": 113
        }
      ]
    },
    {
      "cell_type": "code",
      "metadata": {
        "id": "u6USnAfaNHn3"
      },
      "source": [
        ""
      ],
      "execution_count": null,
      "outputs": []
    }
  ]
}