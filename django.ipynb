{
  "nbformat": 4,
  "nbformat_minor": 0,
  "metadata": {
    "colab": {
      "name": "django.ipynb",
      "provenance": [],
      "collapsed_sections": [],
      "authorship_tag": "ABX9TyMgaf7SibXuBaND9fzqFU/b",
      "include_colab_link": true
    },
    "kernelspec": {
      "display_name": "Python 3",
      "name": "python3"
    },
    "language_info": {
      "name": "python"
    }
  },
  "cells": [
    {
      "cell_type": "markdown",
      "metadata": {
        "id": "view-in-github",
        "colab_type": "text"
      },
      "source": [
        "<a href=\"https://colab.research.google.com/github/Nur-A-Alam1997/task/blob/master/django.ipynb\" target=\"_parent\"><img src=\"https://colab.research.google.com/assets/colab-badge.svg\" alt=\"Open In Colab\"/></a>"
      ]
    },
    {
      "cell_type": "code",
      "metadata": {
        "id": "UXJJxUbkGBnf"
      },
      "source": [
        "import shutil\n",
        "\n",
        "shutil.rmtree(\"/content/minimal-django/static_files\")"
      ],
      "execution_count": null,
      "outputs": []
    },
    {
      "cell_type": "code",
      "metadata": {
        "colab": {
          "base_uri": "https://localhost:8080/"
        },
        "id": "jvMnmPlENvb2",
        "outputId": "a340ac3e-b696-4f8c-c5de-2051dc695ad4"
      },
      "source": [
        "!git clone https://github.com/rnevius/minimal-django.git"
      ],
      "execution_count": null,
      "outputs": [
        {
          "output_type": "stream",
          "name": "stdout",
          "text": [
            "Cloning into 'minimal-django'...\n",
            "remote: Enumerating objects: 20, done.\u001b[K\n",
            "remote: Counting objects: 100% (3/3), done.\u001b[K\n",
            "remote: Compressing objects: 100% (3/3), done.\u001b[K\n",
            "remote: Total 20 (delta 0), reused 1 (delta 0), pack-reused 17\u001b[K\n",
            "Unpacking objects: 100% (20/20), done.\n"
          ]
        }
      ]
    },
    {
      "cell_type": "code",
      "metadata": {
        "colab": {
          "base_uri": "https://localhost:8080/"
        },
        "id": "AdGYqnuSOAUw",
        "outputId": "95a842e6-7f64-4afc-f4a7-13e50ecbeb55"
      },
      "source": [
        "%cd minimal-django/"
      ],
      "execution_count": null,
      "outputs": [
        {
          "output_type": "stream",
          "name": "stdout",
          "text": [
            "/content/minimal-django\n"
          ]
        }
      ]
    },
    {
      "cell_type": "code",
      "metadata": {
        "id": "BuPr4TzsKb0Y"
      },
      "source": [
        "!mkdir static templates"
      ],
      "execution_count": null,
      "outputs": []
    },
    {
      "cell_type": "code",
      "metadata": {
        "colab": {
          "base_uri": "https://localhost:8080/"
        },
        "id": "YL-Ax8vEORb3",
        "outputId": "a77b6127-4134-4fe7-b061-8a9574f26a55"
      },
      "source": [
        "%%writefile templates/temp.html\n",
        "{% load static %}\n",
        "\n",
        "<!DOCTYPE html>\n",
        "<html>\n",
        "<head>\n",
        "<title>Page Title</title>\n",
        "<link rel=\"stylesheet\" type=\"text/css\" href='{%static \"temp.css\" %}'>\n",
        "</head>\n",
        "<body>\n",
        "\n",
        "<h1>This is a Heading</h1>\n",
        "\n",
        "<img src=\"{%static 'favicon.ico' %}\" alt=\"\">\n",
        "\n",
        "<p>This is a paragraph.</p>\n",
        "\n",
        "</body>\n",
        "</html>"
      ],
      "execution_count": null,
      "outputs": [
        {
          "output_type": "stream",
          "name": "stdout",
          "text": [
            "Writing templates/temp.html\n"
          ]
        }
      ]
    },
    {
      "cell_type": "code",
      "metadata": {
        "colab": {
          "base_uri": "https://localhost:8080/"
        },
        "id": "jqBjVm8PfJ7e",
        "outputId": "5b00a7d4-3757-48ba-e3c6-b76087f4e01c"
      },
      "source": [
        "%%writefile static/temp.css\n",
        "\n",
        "\n",
        "h1{\n",
        "    color:red;\n",
        "}\n",
        "\n",
        "\n"
      ],
      "execution_count": null,
      "outputs": [
        {
          "output_type": "stream",
          "name": "stdout",
          "text": [
            "Writing static/temp.css\n"
          ]
        }
      ]
    },
    {
      "cell_type": "code",
      "metadata": {
        "colab": {
          "base_uri": "https://localhost:8080/"
        },
        "id": "hPj09pfQgZko",
        "outputId": "687bd396-ab86-415b-b5db-e804bff5a9b6"
      },
      "source": [
        "import os\n",
        "import urllib.request\n",
        "urllib.request.urlretrieve('https://www.google.com/images/branding/googlelogo/1x/googlelogo_color_272x92dp.png',\n",
        "                           'static/favicon.ico')"
      ],
      "execution_count": null,
      "outputs": [
        {
          "output_type": "execute_result",
          "data": {
            "text/plain": [
              "('static/favicon.ico', <http.client.HTTPMessage at 0x7f67fb9f7090>)"
            ]
          },
          "metadata": {},
          "execution_count": 42
        }
      ]
    },
    {
      "cell_type": "code",
      "metadata": {
        "id": "8ORdJIsffD-U"
      },
      "source": [
        ""
      ],
      "execution_count": null,
      "outputs": []
    },
    {
      "cell_type": "code",
      "metadata": {
        "colab": {
          "base_uri": "https://localhost:8080/"
        },
        "id": "i060NGkzGVll",
        "outputId": "d34b6872-4c1a-41e7-c076-70252ccfd507"
      },
      "source": [
        "!pwd"
      ],
      "execution_count": null,
      "outputs": [
        {
          "output_type": "stream",
          "name": "stdout",
          "text": [
            "/content/minimal-django\n"
          ]
        }
      ]
    },
    {
      "cell_type": "code",
      "metadata": {
        "colab": {
          "base_uri": "https://localhost:8080/"
        },
        "id": "Mvedot97B9OI",
        "outputId": "6c7bba9e-888e-4f9c-9489-51da1be7ea49"
      },
      "source": [
        "!pip install django"
      ],
      "execution_count": null,
      "outputs": [
        {
          "output_type": "stream",
          "name": "stdout",
          "text": [
            "Collecting django\n",
            "  Downloading Django-3.2.9-py3-none-any.whl (7.9 MB)\n",
            "\u001b[K     |████████████████████████████████| 7.9 MB 26.6 MB/s \n",
            "\u001b[?25hCollecting asgiref<4,>=3.3.2\n",
            "  Downloading asgiref-3.4.1-py3-none-any.whl (25 kB)\n",
            "Requirement already satisfied: pytz in /usr/local/lib/python3.7/dist-packages (from django) (2018.9)\n",
            "Requirement already satisfied: sqlparse>=0.2.2 in /usr/local/lib/python3.7/dist-packages (from django) (0.4.2)\n",
            "Requirement already satisfied: typing-extensions in /usr/local/lib/python3.7/dist-packages (from asgiref<4,>=3.3.2->django) (3.10.0.2)\n",
            "Installing collected packages: asgiref, django\n",
            "Successfully installed asgiref-3.4.1 django-3.2.9\n"
          ]
        }
      ]
    },
    {
      "cell_type": "code",
      "metadata": {
        "id": "ku5--pyZCHrB"
      },
      "source": [
        "!django-admin startproject ProjectName"
      ],
      "execution_count": null,
      "outputs": []
    },
    {
      "cell_type": "code",
      "metadata": {
        "colab": {
          "base_uri": "https://localhost:8080/"
        },
        "id": "IrlTZj92C40I",
        "outputId": "103bd4e5-75b8-437d-c953-d1832463a58d"
      },
      "source": [
        "%cd ProjectName/"
      ],
      "execution_count": null,
      "outputs": [
        {
          "name": "stdout",
          "output_type": "stream",
          "text": [
            "/content/ProjectName\n"
          ]
        }
      ]
    },
    {
      "cell_type": "code",
      "metadata": {
        "colab": {
          "base_uri": "https://localhost:8080/"
        },
        "id": "EnWRj0CqP9fp",
        "outputId": "21ac038d-45c2-44ff-d56c-2bf1c9f0e642"
      },
      "source": [
        "%%writefile minimal.py\n",
        "import sys, os\n",
        "\n",
        "from pathlib import Path\n",
        "\n",
        "from django.conf import settings\n",
        "\n",
        "from django.urls import path, resolve, Resolver404\n",
        "\n",
        "from django.core.management import execute_from_command_line\n",
        "\n",
        "from django.http import HttpResponse\n",
        "\n",
        "from django.shortcuts import render\n",
        "\n",
        "BASE_DIR = Path(__file__).resolve().parent.parent\n",
        "# PROJECT_DIR = os.path.dirname(__file__)\n",
        "# print(\"hi\",BASE_DIR,PROJECT_DIR)\n",
        "\n",
        "\n",
        "\n",
        "\n",
        "# MEDIA_URL = '/media/'\n",
        "# MEDIA_ROOT = os.path.join(BASE_DIR, 'media')\n",
        "\n",
        "\n",
        "settings.configure(\n",
        "\n",
        "    DEBUG=True,\n",
        "\n",
        "    ROOT_URLCONF=sys.modules[__name__],\n",
        "\n",
        "    ALLOWED_HOSTS = ['colab.research.google.com'],\n",
        "\n",
        "    SECRET_KEY='asecretkey',\n",
        "\n",
        "    STATIC_URL = '/static/',\n",
        "    STATICFILES_DIRS = [\n",
        "        BASE_DIR/'minimal-django/static'\n",
        "    ],\n",
        "    INSTALLED_APPS = [\n",
        "    'django.contrib.staticfiles',\n",
        "    ],\n",
        "\n",
        "    TEMPLATES = [\n",
        "    {\n",
        "        'BACKEND': 'django.template.backends.django.DjangoTemplates',\n",
        "        'DIRS': [\n",
        "            './templates/'\n",
        "        ],\n",
        "    },\n",
        "    ],\n",
        "    DATABASES = {\n",
        "\n",
        "    'default': {\n",
        "\n",
        "        'ENGINE': 'django.db.backends.postgresql_psycopg2',\n",
        "\n",
        "        'NAME': \"ole\",\n",
        "\n",
        "        'USER': 'postgres',\n",
        "\n",
        "        'PASSWORD': 'postgres',\n",
        "\n",
        "        'HOST': 'localhost',\n",
        "\n",
        "        'PORT': '5432',\n",
        "\n",
        "    }\n",
        "\n",
        "    }\n",
        "\n",
        ")\n",
        "\n",
        "\n",
        "def home(request):\n",
        "\n",
        "    return HttpResponse(\"\"\"\n",
        "    <link rel=\"icon\" href=\"static/favicon.ico\">\n",
        "    <h1> Home!</h1>\n",
        "    \"\"\")\n",
        "\n",
        "def index(request):\n",
        "\n",
        "    return HttpResponse(\n",
        "    \"\"\"\n",
        "    <link rel=\"icon\" href=\"static/favicon.ico\">\n",
        "    <img src='static/favicon.ico' alt=\"\">\n",
        "    <h1>A minimal fucking Django response!</h1>\n",
        "    \"\"\")\n",
        "\n",
        "def fuck(request):\n",
        "    return render(request, 'temp.html')\n",
        "\n",
        "    # return HttpResponse('<h1> fucking Django response!</h1>')\n",
        "def okay(request):\n",
        "    return HttpResponse('pretend-binary-data-here', content_type='image/jpeg')\n",
        "\n",
        "\n",
        "def test(request):\n",
        "    import pandas as pd\n",
        "    import psycopg2\n",
        "\n",
        "    connection = psycopg2.connect(host = 'localhost',\n",
        "                            user = 'postgres',\n",
        "                            password = 'postgres',\n",
        "                            database = 'ole',\n",
        "                            port = 5432)\n",
        "\n",
        "    df = pd.read_sql('select * from customer', connection)\n",
        "    print(df['email'])\n",
        "\n",
        "    return HttpResponse(df['email'])\n",
        "\n",
        "\n",
        "urlpatterns = [\n",
        "\n",
        "    path(r'', home),\n",
        "    path(r'admin/', index),\n",
        "    path(r'fuck/', fuck),\n",
        "    path(r'test/', test),\n",
        "    path('favicon.ico', okay),    \n",
        "\n",
        "]\n",
        "\n",
        "\n",
        "\n",
        "if __name__ == '__main__':\n",
        "\n",
        "    execute_from_command_line(sys.argv)"
      ],
      "execution_count": null,
      "outputs": [
        {
          "output_type": "stream",
          "name": "stdout",
          "text": [
            "Overwriting minimal.py\n"
          ]
        }
      ]
    },
    {
      "cell_type": "code",
      "metadata": {
        "id": "JmjXkHVxJRXD"
      },
      "source": [
        "with open(\"/content/minimal-django/minimal.py\") as page:\n",
        "    for line in page:\n",
        "        print(line)"
      ],
      "execution_count": null,
      "outputs": []
    },
    {
      "cell_type": "code",
      "metadata": {
        "id": "-WYKb0kKDSLD"
      },
      "source": [
        "with open(\"/content/ProjectName/ProjectName/settings.py\") as page:\n",
        "    f = open(\"settings.py\", \"w\")\n",
        "    for line in page:\n",
        "        if \"ALLOWED_HOSTS\" in line:\n",
        "            f.write(\"ALLOWED_HOSTS = ['colab.research.google.com']\")\n",
        "        else:\n",
        "            f.write(line)\n",
        "    f.close()\n",
        "\n",
        "# ALLOWED_HOSTS = ['colab.research.google.com']"
      ],
      "execution_count": null,
      "outputs": []
    },
    {
      "cell_type": "code",
      "metadata": {
        "id": "FzVcRobuDlCl"
      },
      "source": [
        "!mv  settings.py ProjectName\n"
      ],
      "execution_count": null,
      "outputs": []
    },
    {
      "cell_type": "code",
      "metadata": {
        "colab": {
          "base_uri": "https://localhost:8080/",
          "height": 34
        },
        "id": "ASxnLdcRC762",
        "outputId": "ee7c3393-afd9-456d-cdca-2968b25462b2"
      },
      "source": [
        "from google.colab.output import eval_js\n",
        "print(eval_js(\"google.colab.kernel.proxyPort(4000)\"))"
      ],
      "execution_count": null,
      "outputs": [
        {
          "output_type": "stream",
          "name": "stdout",
          "text": [
            "https://9ou24p4xqde-496ff2e9c6d22116-4000-colab.googleusercontent.com/\n"
          ]
        }
      ]
    },
    {
      "cell_type": "code",
      "metadata": {
        "id": "Eq9B7l2KFrBq"
      },
      "source": [
        "!python minimal.py runserver 4000"
      ],
      "execution_count": null,
      "outputs": []
    },
    {
      "cell_type": "code",
      "metadata": {
        "colab": {
          "base_uri": "https://localhost:8080/",
          "height": 35
        },
        "id": "WorfM51FSd6k",
        "outputId": "ed425867-be2b-4597-a49c-023f06a42e90"
      },
      "source": [
        "import shutil\n",
        "shutil.make_archive('/content/minimal-django', 'zip', '/content/minimal-django')"
      ],
      "execution_count": null,
      "outputs": [
        {
          "data": {
            "application/vnd.google.colaboratory.intrinsic+json": {
              "type": "string"
            },
            "text/plain": [
              "'/content/minimal-django.zip'"
            ]
          },
          "execution_count": 58,
          "metadata": {},
          "output_type": "execute_result"
        }
      ]
    },
    {
      "cell_type": "code",
      "metadata": {
        "colab": {
          "base_uri": "https://localhost:8080/"
        },
        "id": "FeltecZwcVKp",
        "outputId": "5d50642b-b666-404b-9c57-ed57ff781e73"
      },
      "source": [
        "!sudo apt-get -y -qq update\n",
        "!sudo apt-get -y -qq install postgresql"
      ],
      "execution_count": 1,
      "outputs": [
        {
          "output_type": "stream",
          "name": "stdout",
          "text": [
            "debconf: unable to initialize frontend: Dialog\n",
            "debconf: (No usable dialog-like program is installed, so the dialog based frontend cannot be used. at /usr/share/perl5/Debconf/FrontEnd/Dialog.pm line 76, <> line 12.)\n",
            "debconf: falling back to frontend: Readline\n",
            "debconf: unable to initialize frontend: Readline\n",
            "debconf: (This frontend requires a controlling tty.)\n",
            "debconf: falling back to frontend: Teletype\n",
            "dpkg-preconfigure: unable to re-open stdin: \n",
            "Selecting previously unselected package cron.\n",
            "(Reading database ... 155219 files and directories currently installed.)\n",
            "Preparing to unpack .../00-cron_3.0pl1-128.1ubuntu1_amd64.deb ...\n",
            "Unpacking cron (3.0pl1-128.1ubuntu1) ...\n",
            "Selecting previously unselected package logrotate.\n",
            "Preparing to unpack .../01-logrotate_3.11.0-0.1ubuntu1_amd64.deb ...\n",
            "Unpacking logrotate (3.11.0-0.1ubuntu1) ...\n",
            "Selecting previously unselected package netbase.\n",
            "Preparing to unpack .../02-netbase_5.4_all.deb ...\n",
            "Unpacking netbase (5.4) ...\n",
            "Preparing to unpack .../03-libpq-dev_10.19-0ubuntu0.18.04.1_amd64.deb ...\n",
            "Unpacking libpq-dev (10.19-0ubuntu0.18.04.1) over (10.18-0ubuntu0.18.04.1) ...\n",
            "Preparing to unpack .../04-libpq5_10.19-0ubuntu0.18.04.1_amd64.deb ...\n",
            "Unpacking libpq5:amd64 (10.19-0ubuntu0.18.04.1) over (10.18-0ubuntu0.18.04.1) ...\n",
            "Selecting previously unselected package postgresql-client-common.\n",
            "Preparing to unpack .../05-postgresql-client-common_190ubuntu0.1_all.deb ...\n",
            "Unpacking postgresql-client-common (190ubuntu0.1) ...\n",
            "Selecting previously unselected package postgresql-client-10.\n",
            "Preparing to unpack .../06-postgresql-client-10_10.19-0ubuntu0.18.04.1_amd64.deb ...\n",
            "Unpacking postgresql-client-10 (10.19-0ubuntu0.18.04.1) ...\n",
            "Selecting previously unselected package ssl-cert.\n",
            "Preparing to unpack .../07-ssl-cert_1.0.39_all.deb ...\n",
            "Unpacking ssl-cert (1.0.39) ...\n",
            "Selecting previously unselected package postgresql-common.\n",
            "Preparing to unpack .../08-postgresql-common_190ubuntu0.1_all.deb ...\n",
            "Adding 'diversion of /usr/bin/pg_config to /usr/bin/pg_config.libpq-dev by postgresql-common'\n",
            "Unpacking postgresql-common (190ubuntu0.1) ...\n",
            "Selecting previously unselected package postgresql-10.\n",
            "Preparing to unpack .../09-postgresql-10_10.19-0ubuntu0.18.04.1_amd64.deb ...\n",
            "Unpacking postgresql-10 (10.19-0ubuntu0.18.04.1) ...\n",
            "Selecting previously unselected package postgresql.\n",
            "Preparing to unpack .../10-postgresql_10+190ubuntu0.1_all.deb ...\n",
            "Unpacking postgresql (10+190ubuntu0.1) ...\n",
            "Selecting previously unselected package sysstat.\n",
            "Preparing to unpack .../11-sysstat_11.6.1-1ubuntu0.1_amd64.deb ...\n",
            "Unpacking sysstat (11.6.1-1ubuntu0.1) ...\n",
            "Setting up sysstat (11.6.1-1ubuntu0.1) ...\n",
            "debconf: unable to initialize frontend: Dialog\n",
            "debconf: (No usable dialog-like program is installed, so the dialog based frontend cannot be used. at /usr/share/perl5/Debconf/FrontEnd/Dialog.pm line 76.)\n",
            "debconf: falling back to frontend: Readline\n",
            "\n",
            "Creating config file /etc/default/sysstat with new version\n",
            "update-alternatives: using /usr/bin/sar.sysstat to provide /usr/bin/sar (sar) in auto mode\n",
            "Created symlink /etc/systemd/system/multi-user.target.wants/sysstat.service → /lib/systemd/system/sysstat.service.\n",
            "Setting up ssl-cert (1.0.39) ...\n",
            "debconf: unable to initialize frontend: Dialog\n",
            "debconf: (No usable dialog-like program is installed, so the dialog based frontend cannot be used. at /usr/share/perl5/Debconf/FrontEnd/Dialog.pm line 76.)\n",
            "debconf: falling back to frontend: Readline\n",
            "Setting up libpq5:amd64 (10.19-0ubuntu0.18.04.1) ...\n",
            "Setting up cron (3.0pl1-128.1ubuntu1) ...\n",
            "Adding group `crontab' (GID 110) ...\n",
            "Done.\n",
            "Created symlink /etc/systemd/system/multi-user.target.wants/cron.service → /lib/systemd/system/cron.service.\n",
            "update-rc.d: warning: start and stop actions are no longer supported; falling back to defaults\n",
            "invoke-rc.d: could not determine current runlevel\n",
            "invoke-rc.d: policy-rc.d denied execution of start.\n",
            "Setting up logrotate (3.11.0-0.1ubuntu1) ...\n",
            "Setting up netbase (5.4) ...\n",
            "Setting up libpq-dev (10.19-0ubuntu0.18.04.1) ...\n",
            "Setting up postgresql-client-common (190ubuntu0.1) ...\n",
            "Setting up postgresql-common (190ubuntu0.1) ...\n",
            "debconf: unable to initialize frontend: Dialog\n",
            "debconf: (No usable dialog-like program is installed, so the dialog based frontend cannot be used. at /usr/share/perl5/Debconf/FrontEnd/Dialog.pm line 76.)\n",
            "debconf: falling back to frontend: Readline\n",
            "Adding user postgres to group ssl-cert\n",
            "\n",
            "Creating config file /etc/postgresql-common/createcluster.conf with new version\n",
            "Building PostgreSQL dictionaries from installed myspell/hunspell packages...\n",
            "Removing obsolete dictionary files:\n",
            "Created symlink /etc/systemd/system/multi-user.target.wants/postgresql.service → /lib/systemd/system/postgresql.service.\n",
            "invoke-rc.d: could not determine current runlevel\n",
            "invoke-rc.d: policy-rc.d denied execution of start.\n",
            "Setting up postgresql-client-10 (10.19-0ubuntu0.18.04.1) ...\n",
            "update-alternatives: using /usr/share/postgresql/10/man/man1/psql.1.gz to provide /usr/share/man/man1/psql.1.gz (psql.1.gz) in auto mode\n",
            "Setting up postgresql-10 (10.19-0ubuntu0.18.04.1) ...\n",
            "debconf: unable to initialize frontend: Dialog\n",
            "debconf: (No usable dialog-like program is installed, so the dialog based frontend cannot be used. at /usr/share/perl5/Debconf/FrontEnd/Dialog.pm line 76.)\n",
            "debconf: falling back to frontend: Readline\n",
            "Creating new PostgreSQL cluster 10/main ...\n",
            "/usr/lib/postgresql/10/bin/initdb -D /var/lib/postgresql/10/main --auth-local peer --auth-host md5\n",
            "The files belonging to this database system will be owned by user \"postgres\".\n",
            "This user must also own the server process.\n",
            "\n",
            "The database cluster will be initialized with locale \"en_US.UTF-8\".\n",
            "The default database encoding has accordingly been set to \"UTF8\".\n",
            "The default text search configuration will be set to \"english\".\n",
            "\n",
            "Data page checksums are disabled.\n",
            "\n",
            "fixing permissions on existing directory /var/lib/postgresql/10/main ... ok\n",
            "creating subdirectories ... ok\n",
            "selecting default max_connections ... 100\n",
            "selecting default shared_buffers ... 128MB\n",
            "selecting default timezone ... Etc/UTC\n",
            "selecting dynamic shared memory implementation ... posix\n",
            "creating configuration files ... ok\n",
            "running bootstrap script ... ok\n",
            "performing post-bootstrap initialization ... ok\n",
            "syncing data to disk ... ok\n",
            "\n",
            "Success. You can now start the database server using:\n",
            "\n",
            "    /usr/lib/postgresql/10/bin/pg_ctl -D /var/lib/postgresql/10/main -l logfile start\n",
            "\n",
            "Ver Cluster Port Status Owner    Data directory              Log file\n",
            "\u001b[31m10  main    5432 down   postgres /var/lib/postgresql/10/main /var/log/postgresql/postgresql-10-main.log\u001b[0m\n",
            "update-alternatives: using /usr/share/postgresql/10/man/man1/postmaster.1.gz to provide /usr/share/man/man1/postmaster.1.gz (postmaster.1.gz) in auto mode\n",
            "invoke-rc.d: could not determine current runlevel\n",
            "invoke-rc.d: policy-rc.d denied execution of start.\n",
            "Setting up postgresql (10+190ubuntu0.1) ...\n",
            "Processing triggers for man-db (2.8.3-2ubuntu0.1) ...\n",
            "Processing triggers for libc-bin (2.27-3ubuntu1.3) ...\n",
            "/sbin/ldconfig.real: /usr/local/lib/python3.7/dist-packages/ideep4py/lib/libmkldnn.so.0 is not a symbolic link\n",
            "\n",
            "Processing triggers for systemd (237-3ubuntu10.52) ...\n"
          ]
        }
      ]
    },
    {
      "cell_type": "code",
      "metadata": {
        "colab": {
          "base_uri": "https://localhost:8080/"
        },
        "id": "9lBpDOaGcyKu",
        "outputId": "4bbfe45d-678a-40d2-8f8e-e7a8c8d7a81e"
      },
      "source": [
        "!sudo service postgresql start\n",
        "# !sudo service postgresql stop"
      ],
      "execution_count": 23,
      "outputs": [
        {
          "output_type": "stream",
          "name": "stdout",
          "text": [
            " * Starting PostgreSQL 10 database server\n",
            "   ...done.\n"
          ]
        }
      ]
    },
    {
      "cell_type": "code",
      "metadata": {
        "colab": {
          "base_uri": "https://localhost:8080/"
        },
        "id": "JESjPXTGcl25",
        "outputId": "62e7d610-165e-41a9-da07-b858d28692f3"
      },
      "source": [
        "# backup file\n",
        "# !pg_dump -U postgres -h localhost -p 5432 ole > ole.sql\n",
        "!pg_dump --no-owner -U postgres -h localhost -p 5432 ole > ole.sql"
      ],
      "execution_count": 12,
      "outputs": [
        {
          "output_type": "stream",
          "name": "stdout",
          "text": [
            "Password: \n"
          ]
        }
      ]
    },
    {
      "cell_type": "code",
      "metadata": {
        "colab": {
          "base_uri": "https://localhost:8080/"
        },
        "id": "kYECIZiSg_aw",
        "outputId": "a9a08c54-b5bb-4727-d1d0-8e2b6b0cca78"
      },
      "source": [
        "# restore\n",
        "# you have to create the db already and configure then run the following command\n",
        "!psql -U postgres -h localhost -d ole -f /content/ole.sql"
      ],
      "execution_count": 45,
      "outputs": [
        {
          "output_type": "stream",
          "name": "stdout",
          "text": [
            "Password for user postgres: \n",
            "SET\n",
            "SET\n",
            "SET\n",
            "SET\n",
            "SET\n",
            " set_config \n",
            "------------\n",
            " \n",
            "(1 row)\n",
            "\n",
            "SET\n",
            "SET\n",
            "SET\n",
            "SET\n",
            "CREATE EXTENSION\n",
            "COMMENT\n",
            "SET\n",
            "SET\n",
            "CREATE TABLE\n",
            "COPY 2\n",
            "ALTER TABLE\n"
          ]
        }
      ]
    },
    {
      "cell_type": "code",
      "metadata": {
        "id": "mKvXgIrqt8k4",
        "colab": {
          "base_uri": "https://localhost:8080/"
        },
        "outputId": "5320bd7f-3f68-45ea-a033-a7d0852ee3db"
      },
      "source": [
        "!sudo -u postgres psql -U postgres"
      ],
      "execution_count": 44,
      "outputs": [
        {
          "output_type": "stream",
          "name": "stdout",
          "text": [
            "psql (10.19 (Ubuntu 10.19-0ubuntu0.18.04.1))\n",
            "Type \"help\" for help.\n",
            "\n",
            "postgres=# \\connect ole\n",
            "You are now connected to database \"ole\" as user \"postgres\".\n",
            "ole=# \\dt\n",
            "Did not find any relations.\n",
            "ole=# \\q\n"
          ]
        }
      ]
    },
    {
      "cell_type": "code",
      "metadata": {
        "colab": {
          "base_uri": "https://localhost:8080/"
        },
        "id": "nWN3IutpsWqo",
        "outputId": "66cc743c-bdd6-4915-ecbd-1d317dff0176"
      },
      "source": [
        "!psql -U postgres -h localhost -d ole -c 'SELECT * FROM customer'"
      ],
      "execution_count": 46,
      "outputs": [
        {
          "output_type": "stream",
          "name": "stdout",
          "text": [
            "Password for user postgres: \n",
            " customer_id |                        name                        |                                               address                                                |                       email                        |     phone_number     \n",
            "-------------+----------------------------------------------------+------------------------------------------------------------------------------------------------------+----------------------------------------------------+----------------------\n",
            "       12345 | Audhi                                              | Indonesia                                                                                            | myemail@gmail.com                                  | +621234567          \n",
            "       56789 | Aprilliant                                         | Japan                                                                                                | email@gmail.com                                    | +6213579246         \n",
            "(2 rows)\n",
            "\n"
          ]
        }
      ]
    },
    {
      "cell_type": "code",
      "metadata": {
        "colab": {
          "base_uri": "https://localhost:8080/"
        },
        "id": "i9f1ZV0mdFA9",
        "outputId": "46da9c13-e6a7-470f-e8e1-0fbd8edb941e"
      },
      "source": [
        "!sudo -u postgres psql -U postgres -c \"ALTER user postgres password 'postgres'\""
      ],
      "execution_count": 5,
      "outputs": [
        {
          "output_type": "stream",
          "name": "stdout",
          "text": [
            "ALTER ROLE\n"
          ]
        }
      ]
    },
    {
      "cell_type": "code",
      "metadata": {
        "colab": {
          "base_uri": "https://localhost:8080/"
        },
        "id": "kjFTtVuodevD",
        "outputId": "77dd9cac-2b22-4037-b8e5-4350625e3b0d"
      },
      "source": [
        "!sudo -u postgres psql -U postgres -c \"Drop database if exists ole\""
      ],
      "execution_count": 25,
      "outputs": [
        {
          "output_type": "stream",
          "name": "stdout",
          "text": [
            "DROP DATABASE\n"
          ]
        }
      ]
    },
    {
      "cell_type": "code",
      "metadata": {
        "colab": {
          "base_uri": "https://localhost:8080/"
        },
        "id": "pF8WfFp5dwrK",
        "outputId": "f87af54f-591c-4904-d90a-fe6226f526b2"
      },
      "source": [
        "!sudo -u postgres psql -U postgres -c \"CREATE database ole\""
      ],
      "execution_count": 28,
      "outputs": [
        {
          "output_type": "stream",
          "name": "stdout",
          "text": [
            "CREATE DATABASE\n"
          ]
        }
      ]
    },
    {
      "cell_type": "code",
      "metadata": {
        "id": "0kin58W4eTfW"
      },
      "source": [
        "!sudo -u postgres psql -U postgres -c \"\""
      ],
      "execution_count": null,
      "outputs": []
    },
    {
      "cell_type": "code",
      "metadata": {
        "id": "1hlT_EcngKky"
      },
      "source": [
        "\n",
        "\n",
        "\n",
        "f = open(\"settings.sql\", \"w\")\n",
        "f.write(\"\"\"\n",
        "CREATE TABLE AirQualityUCI (\n",
        "  Date DATE,\n",
        "  Time TIME,\n",
        "  CO REAL,\n",
        "  PT08S1 INT,\n",
        "  NMHC REAL,\n",
        "  C6H6 REAL,\n",
        "  PT08S2 INT,\n",
        "  NOx REAL,\n",
        "  PT08S3 INT,\n",
        "  NO2 REAL,\n",
        "  PT08S4 INT,\n",
        "  PT08S5 INT,\n",
        "  T REAL,\n",
        "  RH REAL,\n",
        "  AH REAL\n",
        ");\n",
        "\"\"\")\n",
        "f.close()\n"
      ],
      "execution_count": null,
      "outputs": []
    },
    {
      "cell_type": "code",
      "metadata": {
        "colab": {
          "base_uri": "https://localhost:8080/"
        },
        "id": "ssbJjcxcg0Ax",
        "outputId": "48375175-c4a0-43f1-ce41-1fbcad9413ee"
      },
      "source": [
        "!PGPASSWORD=postgres psql -q -h localhost -p 5432 -U postgres -d ole -f settings.sql"
      ],
      "execution_count": null,
      "outputs": [
        {
          "output_type": "stream",
          "name": "stdout",
          "text": [
            "psql:settings.sql:18: ERROR:  relation \"airqualityuci\" already exists\n"
          ]
        }
      ]
    },
    {
      "cell_type": "code",
      "metadata": {
        "colab": {
          "base_uri": "https://localhost:8080/"
        },
        "id": "mNZ2Dg4GhB_z",
        "outputId": "ccca18fd-e545-46e1-c3bf-d567552ff8a4"
      },
      "source": [
        ""
      ],
      "execution_count": null,
      "outputs": [
        {
          "output_type": "stream",
          "name": "stderr",
          "text": [
            "/usr/local/lib/python3.7/dist-packages/psycopg2/__init__.py:144: UserWarning: The psycopg2 wheel package will be renamed from release 2.8; in order to keep installing from binary please use \"pip install psycopg2-binary\" instead. For details see: <http://initd.org/psycopg/docs/install.html#binary-install-from-pypi>.\n",
            "  \"\"\")\n"
          ]
        }
      ]
    },
    {
      "cell_type": "code",
      "metadata": {
        "id": "Xrz77KyukSDh"
      },
      "source": [
        "import psycopg2\n",
        "connection = psycopg2.connect(host = 'localhost',\n",
        "                            user = 'postgres',\n",
        "                            password = 'postgres',\n",
        "                            database = 'ole',\n",
        "                            port = 5432)"
      ],
      "execution_count": 29,
      "outputs": []
    },
    {
      "cell_type": "code",
      "metadata": {
        "id": "1acAAW2sk1u7"
      },
      "source": [
        "cursor = connection.cursor()"
      ],
      "execution_count": 30,
      "outputs": []
    },
    {
      "cell_type": "code",
      "metadata": {
        "id": "cipj4M5ulcn_"
      },
      "source": [
        "query = \"select * from customer\""
      ],
      "execution_count": 31,
      "outputs": []
    },
    {
      "cell_type": "code",
      "metadata": {
        "id": "p9P3d1BWlmPM"
      },
      "source": [
        "cursor.execute(query)"
      ],
      "execution_count": 38,
      "outputs": []
    },
    {
      "cell_type": "code",
      "metadata": {
        "id": "lyRDUcoclpgF"
      },
      "source": [
        "models = cursor.fetchall()"
      ],
      "execution_count": 39,
      "outputs": []
    },
    {
      "cell_type": "code",
      "metadata": {
        "id": "hsLyGx69lxm9",
        "colab": {
          "base_uri": "https://localhost:8080/"
        },
        "outputId": "855dd508-21b5-44be-8260-46ab4c819bfd"
      },
      "source": [
        "models"
      ],
      "execution_count": 40,
      "outputs": [
        {
          "output_type": "execute_result",
          "data": {
            "text/plain": [
              "[(12345,\n",
              "  'Audhi                                             ',\n",
              "  'Indonesia                                                                                           ',\n",
              "  'myemail@gmail.com                                 ',\n",
              "  '+621234567          '),\n",
              " (56789,\n",
              "  'Aprilliant                                        ',\n",
              "  'Japan                                                                                               ',\n",
              "  'email@gmail.com                                   ',\n",
              "  '+6213579246         ')]"
            ]
          },
          "metadata": {},
          "execution_count": 40
        }
      ]
    },
    {
      "cell_type": "code",
      "metadata": {
        "colab": {
          "base_uri": "https://localhost:8080/"
        },
        "id": "F7qjM_CQZk1T",
        "outputId": "d2d75407-1c51-4432-c63a-0df6bccc5416"
      },
      "source": [
        "cur = connection.cursor()\n",
        "cur.execute(\"\"\"DROP TABLE if exists customer\"\"\")\n",
        "print('Table dropped in PostgreSQL')\n",
        "connection.commit()"
      ],
      "execution_count": 42,
      "outputs": [
        {
          "output_type": "stream",
          "name": "stdout",
          "text": [
            "Table dropped in PostgreSQL\n"
          ]
        }
      ]
    },
    {
      "cell_type": "code",
      "metadata": {
        "colab": {
          "base_uri": "https://localhost:8080/"
        },
        "id": "cQImiPaAmYrb",
        "outputId": "6a861e56-c29a-472b-83ff-198ed246d94c"
      },
      "source": [
        "cur = connection.cursor()\n",
        "cur.execute(\"\"\"\n",
        "CREATE TABLE if not exists customer (\n",
        "customer_id INT PRIMARY KEY NOT NULL,\n",
        "name CHAR(50) NOT NULL,\n",
        "address CHAR(100),\n",
        "email CHAR(50),\n",
        "phone_number CHAR(20));\n",
        "\"\"\")\n",
        "print('Table created in PostgreSQL')\n",
        "connection.commit()\n",
        "# connection.close()"
      ],
      "execution_count": 5,
      "outputs": [
        {
          "output_type": "stream",
          "name": "stdout",
          "text": [
            "Table created in PostgreSQL\n"
          ]
        }
      ]
    },
    {
      "cell_type": "code",
      "metadata": {
        "id": "KJ1TwWtGlyo9"
      },
      "source": [
        "cur = connection.cursor()\n",
        "cur.execute(\"\"\"\n",
        "INSERT INTO customer (customer_id,name,address,email,phone_number)\n",
        "VALUES (12345,'Audhi','Indonesia','myemail@gmail.com','+621234567');\n",
        "\"\"\")\n",
        "cur.execute(\"\"\"\n",
        "INSERT INTO customer (customer_id,name,address,email,phone_number)\n",
        "VALUES (56789,'Aprilliant','Japan','email@gmail.com','+6213579246');\n",
        "\"\"\")\n",
        "connection.commit()\n",
        "# connection.close()"
      ],
      "execution_count": null,
      "outputs": []
    },
    {
      "cell_type": "code",
      "metadata": {
        "id": "S5t10LYQmH6e"
      },
      "source": [
        "cursor.execute(\"ROLLBACK\")"
      ],
      "execution_count": 33,
      "outputs": []
    },
    {
      "cell_type": "code",
      "metadata": {
        "id": "lGTAX6fcm_gU",
        "colab": {
          "base_uri": "https://localhost:8080/"
        },
        "outputId": "9ef75765-76c8-4263-c8d7-c04c31d7b6f9"
      },
      "source": [
        "cur = connection.cursor()\n",
        "cur.execute(\"\"\"\n",
        "SELECT customer_id,name,email FROM customer LIMIT 5;\n",
        "\"\"\")\n",
        "print('Read table in PostgreSQL')\n",
        "# Close the connection\n",
        "print(cur.fetchall())\n",
        "\n",
        "connection.commit()"
      ],
      "execution_count": 13,
      "outputs": [
        {
          "output_type": "stream",
          "name": "stdout",
          "text": [
            "Read table in PostgreSQL\n",
            "[(12345, 'Audhi                                             ', 'myemail@gmail.com                                 '), (56789, 'Aprilliant                                        ', 'email@gmail.com                                   ')]\n"
          ]
        }
      ]
    },
    {
      "cell_type": "code",
      "metadata": {
        "id": "3w71Nq3_pXbI",
        "colab": {
          "base_uri": "https://localhost:8080/",
          "height": 112
        },
        "outputId": "c6d62ed5-b8d6-4b48-caaa-add77d9b4480"
      },
      "source": [
        "import pandas as pd\n",
        "\n",
        "\n",
        "df = pd.read_sql('select * from customer', connection)\n",
        "df"
      ],
      "execution_count": 47,
      "outputs": [
        {
          "output_type": "execute_result",
          "data": {
            "text/html": [
              "<div>\n",
              "<style scoped>\n",
              "    .dataframe tbody tr th:only-of-type {\n",
              "        vertical-align: middle;\n",
              "    }\n",
              "\n",
              "    .dataframe tbody tr th {\n",
              "        vertical-align: top;\n",
              "    }\n",
              "\n",
              "    .dataframe thead th {\n",
              "        text-align: right;\n",
              "    }\n",
              "</style>\n",
              "<table border=\"1\" class=\"dataframe\">\n",
              "  <thead>\n",
              "    <tr style=\"text-align: right;\">\n",
              "      <th></th>\n",
              "      <th>customer_id</th>\n",
              "      <th>name</th>\n",
              "      <th>address</th>\n",
              "      <th>email</th>\n",
              "      <th>phone_number</th>\n",
              "    </tr>\n",
              "  </thead>\n",
              "  <tbody>\n",
              "    <tr>\n",
              "      <th>0</th>\n",
              "      <td>12345</td>\n",
              "      <td>Audhi                                         ...</td>\n",
              "      <td>Indonesia                                     ...</td>\n",
              "      <td>myemail@gmail.com                             ...</td>\n",
              "      <td>+621234567</td>\n",
              "    </tr>\n",
              "    <tr>\n",
              "      <th>1</th>\n",
              "      <td>56789</td>\n",
              "      <td>Aprilliant                                    ...</td>\n",
              "      <td>Japan                                         ...</td>\n",
              "      <td>email@gmail.com                               ...</td>\n",
              "      <td>+6213579246</td>\n",
              "    </tr>\n",
              "  </tbody>\n",
              "</table>\n",
              "</div>"
            ],
            "text/plain": [
              "   customer_id  ...          phone_number\n",
              "0        12345  ...  +621234567          \n",
              "1        56789  ...  +6213579246         \n",
              "\n",
              "[2 rows x 5 columns]"
            ]
          },
          "metadata": {},
          "execution_count": 47
        }
      ]
    },
    {
      "cell_type": "code",
      "metadata": {
        "id": "u6USnAfaNHn3"
      },
      "source": [
        "\n"
      ],
      "execution_count": 25,
      "outputs": []
    },
    {
      "cell_type": "code",
      "metadata": {
        "id": "xSgvR8YHmt1B"
      },
      "source": [
        ""
      ],
      "execution_count": 27,
      "outputs": []
    },
    {
      "cell_type": "code",
      "metadata": {
        "id": "H6FBhJFZnJPj"
      },
      "source": [
        ""
      ],
      "execution_count": null,
      "outputs": []
    }
  ]
}